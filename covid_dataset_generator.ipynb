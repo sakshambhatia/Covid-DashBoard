{
 "cells": [
  {
   "cell_type": "code",
   "execution_count": 1,
   "metadata": {},
   "outputs": [],
   "source": [
    "import pandas as pd\n",
    "import numpy as np\n",
    "import matplotlib as plt\n",
    "%matplotlib inline\n",
    "import seaborn as sns\n",
    "import json\n",
    "from pandas.io.json import json_normalize\n",
    "import re"
   ]
  },
  {
   "cell_type": "code",
   "execution_count": 2,
   "metadata": {},
   "outputs": [],
   "source": [
    "pd.set_option('max_colwidth',400)\n",
    "\n",
    "table = pd.read_html(\"https://github.com/covid19india/api\")"
   ]
  },
  {
   "cell_type": "code",
   "execution_count": 3,
   "metadata": {},
   "outputs": [
    {
     "data": {
      "text/html": [
       "<div>\n",
       "<style scoped>\n",
       "    .dataframe tbody tr th:only-of-type {\n",
       "        vertical-align: middle;\n",
       "    }\n",
       "\n",
       "    .dataframe tbody tr th {\n",
       "        vertical-align: top;\n",
       "    }\n",
       "\n",
       "    .dataframe thead th {\n",
       "        text-align: right;\n",
       "    }\n",
       "</style>\n",
       "<table border=\"1\" class=\"dataframe\">\n",
       "  <thead>\n",
       "    <tr style=\"text-align: right;\">\n",
       "      <th></th>\n",
       "      <th>Status</th>\n",
       "      <th>Data</th>\n",
       "      <th>URL</th>\n",
       "    </tr>\n",
       "  </thead>\n",
       "  <tbody>\n",
       "    <tr>\n",
       "      <td>0</td>\n",
       "      <td>💚</td>\n",
       "      <td>Patient Level : Raw Data Partition 1 (Till Apr 19)</td>\n",
       "      <td>https://api.covid19india.org/raw_data1.json</td>\n",
       "    </tr>\n",
       "    <tr>\n",
       "      <td>1</td>\n",
       "      <td>💚</td>\n",
       "      <td>Patient Level : Raw Data Partition 2 (From Apr 20 to Apr 26)</td>\n",
       "      <td>https://api.covid19india.org/raw_data2.json</td>\n",
       "    </tr>\n",
       "    <tr>\n",
       "      <td>2</td>\n",
       "      <td>💚</td>\n",
       "      <td>Patient Level : Raw Data Partition 3 (From Apr 27 to May 09)</td>\n",
       "      <td>https://api.covid19india.org/raw_data3.json</td>\n",
       "    </tr>\n",
       "    <tr>\n",
       "      <td>3</td>\n",
       "      <td>💚</td>\n",
       "      <td>Patient Level : Raw Data Partition 4 (From May 10 to May 23)</td>\n",
       "      <td>https://api.covid19india.org/raw_data4.json</td>\n",
       "    </tr>\n",
       "    <tr>\n",
       "      <td>4</td>\n",
       "      <td>💚</td>\n",
       "      <td>Patient Level : Raw Data Partition 5 (From May 24 to Jun 04)</td>\n",
       "      <td>https://api.covid19india.org/raw_data5.json</td>\n",
       "    </tr>\n",
       "  </tbody>\n",
       "</table>\n",
       "</div>"
      ],
      "text/plain": [
       "  Status                                                          Data  \\\n",
       "0      💚            Patient Level : Raw Data Partition 1 (Till Apr 19)   \n",
       "1      💚  Patient Level : Raw Data Partition 2 (From Apr 20 to Apr 26)   \n",
       "2      💚  Patient Level : Raw Data Partition 3 (From Apr 27 to May 09)   \n",
       "3      💚  Patient Level : Raw Data Partition 4 (From May 10 to May 23)   \n",
       "4      💚  Patient Level : Raw Data Partition 5 (From May 24 to Jun 04)   \n",
       "\n",
       "                                           URL  \n",
       "0  https://api.covid19india.org/raw_data1.json  \n",
       "1  https://api.covid19india.org/raw_data2.json  \n",
       "2  https://api.covid19india.org/raw_data3.json  \n",
       "3  https://api.covid19india.org/raw_data4.json  \n",
       "4  https://api.covid19india.org/raw_data5.json  "
      ]
     },
     "execution_count": 3,
     "metadata": {},
     "output_type": "execute_result"
    }
   ],
   "source": [
    "table = table[0]\n",
    "table.head()"
   ]
  },
  {
   "cell_type": "code",
   "execution_count": 4,
   "metadata": {},
   "outputs": [
    {
     "data": {
      "text/plain": [
       "0    https://api.covid19india.org/raw_data1.json\n",
       "1    https://api.covid19india.org/raw_data2.json\n",
       "2    https://api.covid19india.org/raw_data3.json\n",
       "3    https://api.covid19india.org/raw_data4.json\n",
       "4    https://api.covid19india.org/raw_data5.json\n",
       "Name: URL, dtype: object"
      ]
     },
     "execution_count": 4,
     "metadata": {},
     "output_type": "execute_result"
    }
   ],
   "source": [
    "covid_links = table[table[\"URL\"].str.contains(\"raw_data[0-99]\")][\"URL\"]\n",
    "covid_links.head()"
   ]
  },
  {
   "cell_type": "code",
   "execution_count": 17,
   "metadata": {},
   "outputs": [
    {
     "name": "stderr",
     "output_type": "stream",
     "text": [
      "/Users/sakshambhatia/opt/anaconda3/lib/python3.7/site-packages/ipykernel_launcher.py:8: FutureWarning: Sorting because non-concatenation axis is not aligned. A future version\n",
      "of pandas will change to not sort by default.\n",
      "\n",
      "To accept the future behavior, pass 'sort=False'.\n",
      "\n",
      "To retain the current behavior and silence the warning, pass 'sort=True'.\n",
      "\n",
      "  \n"
     ]
    },
    {
     "name": "stdout",
     "output_type": "stream",
     "text": [
      "Done Reading\n",
      "read data from 8 files\n"
     ]
    }
   ],
   "source": [
    "raw = pd.DataFrame()\n",
    "try:\n",
    "    i=1\n",
    "    link=\"https://api.covid19india.org/csv/latest/raw_data{}.csv\"\n",
    "    while(True):\n",
    "        temp = pd.read_csv(link.format(str(i)))\n",
    "        i+=1\n",
    "        raw = pd.concat([raw,temp])\n",
    "except:\n",
    "    print(\"Done Reading\")\n",
    "finally:\n",
    "    print(\"read data from {} files\".format(str(i-1)))"
   ]
  },
  {
   "cell_type": "code",
   "execution_count": 18,
   "metadata": {},
   "outputs": [
    {
     "data": {
      "text/plain": [
       "139185"
      ]
     },
     "execution_count": 18,
     "metadata": {},
     "output_type": "execute_result"
    }
   ],
   "source": [
    "len(raw)"
   ]
  },
  {
   "cell_type": "code",
   "execution_count": 19,
   "metadata": {},
   "outputs": [
    {
     "data": {
      "text/html": [
       "<div>\n",
       "<style scoped>\n",
       "    .dataframe tbody tr th:only-of-type {\n",
       "        vertical-align: middle;\n",
       "    }\n",
       "\n",
       "    .dataframe tbody tr th {\n",
       "        vertical-align: top;\n",
       "    }\n",
       "\n",
       "    .dataframe thead th {\n",
       "        text-align: right;\n",
       "    }\n",
       "</style>\n",
       "<table border=\"1\" class=\"dataframe\">\n",
       "  <thead>\n",
       "    <tr style=\"text-align: right;\">\n",
       "      <th></th>\n",
       "      <th>Age Bracket</th>\n",
       "      <th>Backup Notes</th>\n",
       "      <th>Contracted from which Patient (Suspected)</th>\n",
       "      <th>Current Status</th>\n",
       "      <th>Date Announced</th>\n",
       "      <th>Detected City</th>\n",
       "      <th>Detected District</th>\n",
       "      <th>Detected State</th>\n",
       "      <th>Entry_ID</th>\n",
       "      <th>Estimated Onset Date</th>\n",
       "      <th>...</th>\n",
       "      <th>Num Cases</th>\n",
       "      <th>Num cases</th>\n",
       "      <th>Patient Number</th>\n",
       "      <th>Source_1</th>\n",
       "      <th>Source_2</th>\n",
       "      <th>Source_3</th>\n",
       "      <th>State Patient Number</th>\n",
       "      <th>State code</th>\n",
       "      <th>Status Change Date</th>\n",
       "      <th>Type of transmission</th>\n",
       "    </tr>\n",
       "  </thead>\n",
       "  <tbody>\n",
       "    <tr>\n",
       "      <td>0</td>\n",
       "      <td>20</td>\n",
       "      <td>Student from Wuhan</td>\n",
       "      <td>NaN</td>\n",
       "      <td>Recovered</td>\n",
       "      <td>30/01/2020</td>\n",
       "      <td>Thrissur</td>\n",
       "      <td>Thrissur</td>\n",
       "      <td>Kerala</td>\n",
       "      <td>NaN</td>\n",
       "      <td>NaN</td>\n",
       "      <td>...</td>\n",
       "      <td>NaN</td>\n",
       "      <td>1.0</td>\n",
       "      <td>1.0</td>\n",
       "      <td>https://twitter.com/vijayanpinarayi/status/1222819465143832577</td>\n",
       "      <td>https://weather.com/en-IN/india/news/news/2020-02-14-kerala-defeats-coronavirus-indias-three-covid-19-patients-successfully</td>\n",
       "      <td>NaN</td>\n",
       "      <td>KL-TS-P1</td>\n",
       "      <td>KL</td>\n",
       "      <td>14/02/2020</td>\n",
       "      <td>Imported</td>\n",
       "    </tr>\n",
       "    <tr>\n",
       "      <td>1</td>\n",
       "      <td>NaN</td>\n",
       "      <td>Student from Wuhan</td>\n",
       "      <td>NaN</td>\n",
       "      <td>Recovered</td>\n",
       "      <td>02/02/2020</td>\n",
       "      <td>Alappuzha</td>\n",
       "      <td>Alappuzha</td>\n",
       "      <td>Kerala</td>\n",
       "      <td>NaN</td>\n",
       "      <td>NaN</td>\n",
       "      <td>...</td>\n",
       "      <td>NaN</td>\n",
       "      <td>1.0</td>\n",
       "      <td>2.0</td>\n",
       "      <td>https://www.indiatoday.in/india/story/kerala-reports-second-case-of-coronavirus-1642494-2020-02-02</td>\n",
       "      <td>https://weather.com/en-IN/india/news/news/2020-02-14-kerala-defeats-coronavirus-indias-three-covid-19-patients-successfully</td>\n",
       "      <td>NaN</td>\n",
       "      <td>KL-AL-P1</td>\n",
       "      <td>KL</td>\n",
       "      <td>14/02/2020</td>\n",
       "      <td>Imported</td>\n",
       "    </tr>\n",
       "    <tr>\n",
       "      <td>2</td>\n",
       "      <td>NaN</td>\n",
       "      <td>Student from Wuhan</td>\n",
       "      <td>NaN</td>\n",
       "      <td>Recovered</td>\n",
       "      <td>03/02/2020</td>\n",
       "      <td>Kasaragod</td>\n",
       "      <td>Kasaragod</td>\n",
       "      <td>Kerala</td>\n",
       "      <td>NaN</td>\n",
       "      <td>NaN</td>\n",
       "      <td>...</td>\n",
       "      <td>NaN</td>\n",
       "      <td>1.0</td>\n",
       "      <td>3.0</td>\n",
       "      <td>https://www.indiatoday.in/india/story/kerala-now-confirms-third-case-of-coronavirus-1642789-2020-02-03</td>\n",
       "      <td>https://twitter.com/ANI/status/1224221485805395968?s=20</td>\n",
       "      <td>https://weather.com/en-IN/india/news/news/2020-02-14-kerala-defeats-coronavirus-indias-three-covid-19-patients-successfully</td>\n",
       "      <td>KL-KS-P1</td>\n",
       "      <td>KL</td>\n",
       "      <td>14/02/2020</td>\n",
       "      <td>Imported</td>\n",
       "    </tr>\n",
       "    <tr>\n",
       "      <td>3</td>\n",
       "      <td>45</td>\n",
       "      <td>Travel history to Italy and Austria</td>\n",
       "      <td>NaN</td>\n",
       "      <td>Recovered</td>\n",
       "      <td>02/03/2020</td>\n",
       "      <td>East Delhi (Mayur Vihar)</td>\n",
       "      <td>East Delhi</td>\n",
       "      <td>Delhi</td>\n",
       "      <td>NaN</td>\n",
       "      <td>NaN</td>\n",
       "      <td>...</td>\n",
       "      <td>NaN</td>\n",
       "      <td>1.0</td>\n",
       "      <td>4.0</td>\n",
       "      <td>https://www.indiatoday.in/india/story/not-a-jail-delhi-s-1st-covid-19-patient-recalls-time-in-isolation-ward-has-this-one-tip-for-others-1656088-2020-03-16</td>\n",
       "      <td>https://economictimes.indiatimes.com/news/politics-and-nation/coronavirus-cases-in-india-live-news-latest-updates-mar2/liveblog/74432375.cms</td>\n",
       "      <td>NaN</td>\n",
       "      <td>DL-P1</td>\n",
       "      <td>DL</td>\n",
       "      <td>15/03/2020</td>\n",
       "      <td>Imported</td>\n",
       "    </tr>\n",
       "    <tr>\n",
       "      <td>4</td>\n",
       "      <td>24</td>\n",
       "      <td>Travel history to Dubai, Singapore contact</td>\n",
       "      <td>NaN</td>\n",
       "      <td>Recovered</td>\n",
       "      <td>02/03/2020</td>\n",
       "      <td>Hyderabad</td>\n",
       "      <td>Hyderabad</td>\n",
       "      <td>Telangana</td>\n",
       "      <td>NaN</td>\n",
       "      <td>NaN</td>\n",
       "      <td>...</td>\n",
       "      <td>NaN</td>\n",
       "      <td>1.0</td>\n",
       "      <td>5.0</td>\n",
       "      <td>https://www.deccanherald.com/national/south/quarantine-not-a-jail-no-stigma-attached-telanganas-first-coronavirus-case-and-survivor-819012.html</td>\n",
       "      <td>https://www.indiatoday.in/india/story/coronavirus-in-india-tracking-country-s-first-50-covid-19-cases-what-numbers-tell-1654468-2020-03-12</td>\n",
       "      <td>https://www.thehindu.com/news/national/coronavirus-live-updates-march-14-2020/article31066969.ece</td>\n",
       "      <td>TS-P1</td>\n",
       "      <td>TG</td>\n",
       "      <td>02/03/2020</td>\n",
       "      <td>Imported</td>\n",
       "    </tr>\n",
       "  </tbody>\n",
       "</table>\n",
       "<p>5 rows × 23 columns</p>\n",
       "</div>"
      ],
      "text/plain": [
       "  Age Bracket                                Backup Notes  \\\n",
       "0          20                          Student from Wuhan   \n",
       "1         NaN                          Student from Wuhan   \n",
       "2         NaN                          Student from Wuhan   \n",
       "3          45         Travel history to Italy and Austria   \n",
       "4          24  Travel history to Dubai, Singapore contact   \n",
       "\n",
       "  Contracted from which Patient (Suspected) Current Status Date Announced  \\\n",
       "0                                       NaN      Recovered     30/01/2020   \n",
       "1                                       NaN      Recovered     02/02/2020   \n",
       "2                                       NaN      Recovered     03/02/2020   \n",
       "3                                       NaN      Recovered     02/03/2020   \n",
       "4                                       NaN      Recovered     02/03/2020   \n",
       "\n",
       "              Detected City Detected District Detected State  Entry_ID  \\\n",
       "0                  Thrissur          Thrissur         Kerala       NaN   \n",
       "1                 Alappuzha         Alappuzha         Kerala       NaN   \n",
       "2                 Kasaragod         Kasaragod         Kerala       NaN   \n",
       "3  East Delhi (Mayur Vihar)        East Delhi          Delhi       NaN   \n",
       "4                 Hyderabad         Hyderabad      Telangana       NaN   \n",
       "\n",
       "   Estimated Onset Date  ... Num Cases Num cases Patient Number  \\\n",
       "0                   NaN  ...       NaN       1.0            1.0   \n",
       "1                   NaN  ...       NaN       1.0            2.0   \n",
       "2                   NaN  ...       NaN       1.0            3.0   \n",
       "3                   NaN  ...       NaN       1.0            4.0   \n",
       "4                   NaN  ...       NaN       1.0            5.0   \n",
       "\n",
       "                                                                                                                                                      Source_1  \\\n",
       "0                                                                                               https://twitter.com/vijayanpinarayi/status/1222819465143832577   \n",
       "1                                                           https://www.indiatoday.in/india/story/kerala-reports-second-case-of-coronavirus-1642494-2020-02-02   \n",
       "2                                                       https://www.indiatoday.in/india/story/kerala-now-confirms-third-case-of-coronavirus-1642789-2020-02-03   \n",
       "3  https://www.indiatoday.in/india/story/not-a-jail-delhi-s-1st-covid-19-patient-recalls-time-in-isolation-ward-has-this-one-tip-for-others-1656088-2020-03-16   \n",
       "4              https://www.deccanherald.com/national/south/quarantine-not-a-jail-no-stigma-attached-telanganas-first-coronavirus-case-and-survivor-819012.html   \n",
       "\n",
       "                                                                                                                                       Source_2  \\\n",
       "0                   https://weather.com/en-IN/india/news/news/2020-02-14-kerala-defeats-coronavirus-indias-three-covid-19-patients-successfully   \n",
       "1                   https://weather.com/en-IN/india/news/news/2020-02-14-kerala-defeats-coronavirus-indias-three-covid-19-patients-successfully   \n",
       "2                                                                                       https://twitter.com/ANI/status/1224221485805395968?s=20   \n",
       "3  https://economictimes.indiatimes.com/news/politics-and-nation/coronavirus-cases-in-india-live-news-latest-updates-mar2/liveblog/74432375.cms   \n",
       "4    https://www.indiatoday.in/india/story/coronavirus-in-india-tracking-country-s-first-50-covid-19-cases-what-numbers-tell-1654468-2020-03-12   \n",
       "\n",
       "                                                                                                                      Source_3  \\\n",
       "0                                                                                                                          NaN   \n",
       "1                                                                                                                          NaN   \n",
       "2  https://weather.com/en-IN/india/news/news/2020-02-14-kerala-defeats-coronavirus-indias-three-covid-19-patients-successfully   \n",
       "3                                                                                                                          NaN   \n",
       "4                            https://www.thehindu.com/news/national/coronavirus-live-updates-march-14-2020/article31066969.ece   \n",
       "\n",
       "  State Patient Number State code Status Change Date Type of transmission  \n",
       "0             KL-TS-P1         KL         14/02/2020             Imported  \n",
       "1             KL-AL-P1         KL         14/02/2020             Imported  \n",
       "2             KL-KS-P1         KL         14/02/2020             Imported  \n",
       "3                DL-P1         DL         15/03/2020             Imported  \n",
       "4                TS-P1         TG         02/03/2020             Imported  \n",
       "\n",
       "[5 rows x 23 columns]"
      ]
     },
     "execution_count": 19,
     "metadata": {},
     "output_type": "execute_result"
    }
   ],
   "source": [
    "raw.head()"
   ]
  },
  {
   "cell_type": "code",
   "execution_count": 21,
   "metadata": {},
   "outputs": [],
   "source": [
    "full = pd.read_csv(\"https://raw.githubusercontent.com/imdevskp/covid-19-india-data/master/complete.csv\")"
   ]
  },
  {
   "cell_type": "code",
   "execution_count": 22,
   "metadata": {},
   "outputs": [
    {
     "data": {
      "text/plain": [
       "3615"
      ]
     },
     "execution_count": 22,
     "metadata": {},
     "output_type": "execute_result"
    }
   ],
   "source": [
    "len(full)"
   ]
  },
  {
   "cell_type": "code",
   "execution_count": 34,
   "metadata": {},
   "outputs": [
    {
     "data": {
      "text/plain": [
       "'2020-07-05'"
      ]
     },
     "execution_count": 34,
     "metadata": {},
     "output_type": "execute_result"
    }
   ],
   "source": [
    "full[\"Date\"].max()"
   ]
  },
  {
   "cell_type": "code",
   "execution_count": null,
   "metadata": {},
   "outputs": [],
   "source": []
  }
 ],
 "metadata": {
  "kernelspec": {
   "display_name": "Python 3",
   "language": "python",
   "name": "python3"
  },
  "language_info": {
   "codemirror_mode": {
    "name": "ipython",
    "version": 3
   },
   "file_extension": ".py",
   "mimetype": "text/x-python",
   "name": "python",
   "nbconvert_exporter": "python",
   "pygments_lexer": "ipython3",
   "version": "3.7.4"
  }
 },
 "nbformat": 4,
 "nbformat_minor": 2
}
